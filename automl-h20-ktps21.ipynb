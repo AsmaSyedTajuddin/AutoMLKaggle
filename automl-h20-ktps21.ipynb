{
 "cells": [
  {
   "cell_type": "markdown",
   "metadata": {
    "papermill": {
     "duration": 0.013316,
     "end_time": "2021-01-10T12:23:14.264686",
     "exception": false,
     "start_time": "2021-01-10T12:23:14.251370",
     "status": "completed"
    },
    "tags": []
   },
   "source": [
    "# AutoML using H2O\n",
    "## Tabular Playground Series - Jan 2021\n",
    "\n",
    "### Description:\n",
    "In this notebbok we are going to use H2O's AutoML. It is one of the largest used AutoML libraries and is known for giving very good results. For the sake of demonstration I am going to try only for 3 model search but you can always experiement with it and train it for longer duration.\n",
    "\n",
    "The following notebook has been inspired from various tutorials and kernels that have used H2O's AutoML to secure good ranks. Personally I found the results quite satisfactory after using this kernel conisdering the amount of work and time I had to spend to achieve that score."
   ]
  },
  {
   "cell_type": "markdown",
   "metadata": {
    "papermill": {
     "duration": 0.012218,
     "end_time": "2021-01-10T12:23:14.289540",
     "exception": false,
     "start_time": "2021-01-10T12:23:14.277322",
     "status": "completed"
    },
    "tags": []
   },
   "source": [
    "## IMPORTING DEPENDENCIES"
   ]
  },
  {
   "cell_type": "code",
   "execution_count": 1,
   "metadata": {
    "_cell_guid": "b1076dfc-b9ad-4769-8c92-a6c4dae69d19",
    "_uuid": "8f2839f25d086af736a60e9eeb907d3b93b6e0e5",
    "execution": {
     "iopub.execute_input": "2021-01-10T12:23:14.324224Z",
     "iopub.status.busy": "2021-01-10T12:23:14.323361Z",
     "iopub.status.idle": "2021-01-10T12:23:14.328536Z",
     "shell.execute_reply": "2021-01-10T12:23:14.330032Z"
    },
    "papermill": {
     "duration": 0.027548,
     "end_time": "2021-01-10T12:23:14.330243",
     "exception": false,
     "start_time": "2021-01-10T12:23:14.302695",
     "status": "completed"
    },
    "tags": []
   },
   "outputs": [
    {
     "name": "stdout",
     "output_type": "stream",
     "text": [
      "/kaggle/input/tabular-playground-series-jan-2021/sample_submission.csv\n",
      "/kaggle/input/tabular-playground-series-jan-2021/train.csv\n",
      "/kaggle/input/tabular-playground-series-jan-2021/test.csv\n"
     ]
    }
   ],
   "source": [
    "import numpy as np # linear algebra\n",
    "import pandas as pd # data processing, CSV file I/O (e.g. pd.read_csv)\n",
    "import os\n",
    "for dirname, _, filenames in os.walk('/kaggle/input'):\n",
    "    for filename in filenames:\n",
    "        print(os.path.join(dirname, filename))"
   ]
  },
  {
   "cell_type": "code",
   "execution_count": 2,
   "metadata": {
    "_cell_guid": "79c7e3d0-c299-4dcb-8224-4455121ee9b0",
    "_uuid": "d629ff2d2480ee46fbb7e2d37f6b5fab8052498a",
    "execution": {
     "iopub.execute_input": "2021-01-10T12:23:14.360748Z",
     "iopub.status.busy": "2021-01-10T12:23:14.360126Z",
     "iopub.status.idle": "2021-01-10T12:23:22.777614Z",
     "shell.execute_reply": "2021-01-10T12:23:22.776877Z"
    },
    "papermill": {
     "duration": 8.434374,
     "end_time": "2021-01-10T12:23:22.777771",
     "exception": false,
     "start_time": "2021-01-10T12:23:14.343397",
     "status": "completed"
    },
    "tags": []
   },
   "outputs": [
    {
     "name": "stdout",
     "output_type": "stream",
     "text": [
      "Checking whether there is an H2O instance running at http://localhost:54321 ..... not found.\n",
      "Attempting to start a local H2O server...\n",
      "  Java Version: openjdk version \"11.0.9.1\" 2020-11-04; OpenJDK Runtime Environment (build 11.0.9.1+1-Ubuntu-0ubuntu1.18.04); OpenJDK 64-Bit Server VM (build 11.0.9.1+1-Ubuntu-0ubuntu1.18.04, mixed mode, sharing)\n",
      "  Starting server from /opt/conda/lib/python3.7/site-packages/h2o/backend/bin/h2o.jar\n",
      "  Ice root: /tmp/tmpum91n_3y\n",
      "  JVM stdout: /tmp/tmpum91n_3y/h2o_unknownUser_started_from_python.out\n",
      "  JVM stderr: /tmp/tmpum91n_3y/h2o_unknownUser_started_from_python.err\n",
      "  Server is running at http://127.0.0.1:54321\n",
      "Connecting to H2O server at http://127.0.0.1:54321 ... successful.\n"
     ]
    },
    {
     "data": {
      "text/html": [
       "<div style=\"overflow:auto\"><table style=\"width:50%\"><tr><td>H2O_cluster_uptime:</td>\n",
       "<td>04 secs</td></tr>\n",
       "<tr><td>H2O_cluster_timezone:</td>\n",
       "<td>Etc/UTC</td></tr>\n",
       "<tr><td>H2O_data_parsing_timezone:</td>\n",
       "<td>UTC</td></tr>\n",
       "<tr><td>H2O_cluster_version:</td>\n",
       "<td>3.32.0.2</td></tr>\n",
       "<tr><td>H2O_cluster_version_age:</td>\n",
       "<td>1 month and 23 days </td></tr>\n",
       "<tr><td>H2O_cluster_name:</td>\n",
       "<td>H2O_from_python_unknownUser_ol5drh</td></tr>\n",
       "<tr><td>H2O_cluster_total_nodes:</td>\n",
       "<td>1</td></tr>\n",
       "<tr><td>H2O_cluster_free_memory:</td>\n",
       "<td>3.250 Gb</td></tr>\n",
       "<tr><td>H2O_cluster_total_cores:</td>\n",
       "<td>2</td></tr>\n",
       "<tr><td>H2O_cluster_allowed_cores:</td>\n",
       "<td>2</td></tr>\n",
       "<tr><td>H2O_cluster_status:</td>\n",
       "<td>accepting new members, healthy</td></tr>\n",
       "<tr><td>H2O_connection_url:</td>\n",
       "<td>http://127.0.0.1:54321</td></tr>\n",
       "<tr><td>H2O_connection_proxy:</td>\n",
       "<td>{\"http\": null, \"https\": null}</td></tr>\n",
       "<tr><td>H2O_internal_security:</td>\n",
       "<td>False</td></tr>\n",
       "<tr><td>H2O_API_Extensions:</td>\n",
       "<td>Amazon S3, XGBoost, Algos, AutoML, Core V3, TargetEncoder, Core V4</td></tr>\n",
       "<tr><td>Python_version:</td>\n",
       "<td>3.7.6 final</td></tr></table></div>"
      ],
      "text/plain": [
       "--------------------------  ------------------------------------------------------------------\n",
       "H2O_cluster_uptime:         04 secs\n",
       "H2O_cluster_timezone:       Etc/UTC\n",
       "H2O_data_parsing_timezone:  UTC\n",
       "H2O_cluster_version:        3.32.0.2\n",
       "H2O_cluster_version_age:    1 month and 23 days\n",
       "H2O_cluster_name:           H2O_from_python_unknownUser_ol5drh\n",
       "H2O_cluster_total_nodes:    1\n",
       "H2O_cluster_free_memory:    3.250 Gb\n",
       "H2O_cluster_total_cores:    2\n",
       "H2O_cluster_allowed_cores:  2\n",
       "H2O_cluster_status:         accepting new members, healthy\n",
       "H2O_connection_url:         http://127.0.0.1:54321\n",
       "H2O_connection_proxy:       {\"http\": null, \"https\": null}\n",
       "H2O_internal_security:      False\n",
       "H2O_API_Extensions:         Amazon S3, XGBoost, Algos, AutoML, Core V3, TargetEncoder, Core V4\n",
       "Python_version:             3.7.6 final\n",
       "--------------------------  ------------------------------------------------------------------"
      ]
     },
     "metadata": {},
     "output_type": "display_data"
    }
   ],
   "source": [
    "import h2o\n",
    "from h2o.automl import H2OAutoML\n",
    "h2o.init()"
   ]
  },
  {
   "cell_type": "markdown",
   "metadata": {
    "papermill": {
     "duration": 0.032236,
     "end_time": "2021-01-10T12:23:22.844029",
     "exception": false,
     "start_time": "2021-01-10T12:23:22.811793",
     "status": "completed"
    },
    "tags": []
   },
   "source": [
    "## IMPORTING DATASET\n",
    "\n",
    "### H2O has its own way of handling datasets and we will need to import them as a file rather than reading them as a csv."
   ]
  },
  {
   "cell_type": "code",
   "execution_count": 3,
   "metadata": {
    "execution": {
     "iopub.execute_input": "2021-01-10T12:23:22.919275Z",
     "iopub.status.busy": "2021-01-10T12:23:22.918383Z",
     "iopub.status.idle": "2021-01-10T12:23:32.818209Z",
     "shell.execute_reply": "2021-01-10T12:23:32.819434Z"
    },
    "papermill": {
     "duration": 9.942735,
     "end_time": "2021-01-10T12:23:32.819668",
     "exception": false,
     "start_time": "2021-01-10T12:23:22.876933",
     "status": "completed"
    },
    "tags": []
   },
   "outputs": [
    {
     "name": "stdout",
     "output_type": "stream",
     "text": [
      "Parse progress: |█████████████████████████████████████████████████████████| 100%\n",
      "Parse progress: |█████████████████████████████████████████████████████████| 100%\n"
     ]
    }
   ],
   "source": [
    "train = h2o.import_file('/kaggle/input/tabular-playground-series-jan-2021/train.csv')\n",
    "test = h2o.import_file('/kaggle/input/tabular-playground-series-jan-2021/test.csv')"
   ]
  },
  {
   "cell_type": "code",
   "execution_count": 4,
   "metadata": {
    "execution": {
     "iopub.execute_input": "2021-01-10T12:23:33.134708Z",
     "iopub.status.busy": "2021-01-10T12:23:33.133923Z",
     "iopub.status.idle": "2021-01-10T12:23:35.839048Z",
     "shell.execute_reply": "2021-01-10T12:23:35.837768Z"
    },
    "papermill": {
     "duration": 2.874368,
     "end_time": "2021-01-10T12:23:35.839189",
     "exception": false,
     "start_time": "2021-01-10T12:23:32.964821",
     "status": "completed"
    },
    "tags": []
   },
   "outputs": [],
   "source": [
    "# Let us also read the csv in case we need them in later.\n",
    "\n",
    "train_df = pd.read_csv('/kaggle/input/tabular-playground-series-jan-2021/train.csv')\n",
    "test_df = pd.read_csv('/kaggle/input/tabular-playground-series-jan-2021/test.csv')"
   ]
  },
  {
   "cell_type": "code",
   "execution_count": 5,
   "metadata": {
    "execution": {
     "iopub.execute_input": "2021-01-10T12:23:35.994154Z",
     "iopub.status.busy": "2021-01-10T12:23:35.977721Z",
     "iopub.status.idle": "2021-01-10T12:23:36.036423Z",
     "shell.execute_reply": "2021-01-10T12:23:36.035941Z"
    },
    "papermill": {
     "duration": 0.143338,
     "end_time": "2021-01-10T12:23:36.036528",
     "exception": false,
     "start_time": "2021-01-10T12:23:35.893190",
     "status": "completed"
    },
    "tags": []
   },
   "outputs": [
    {
     "name": "stdout",
     "output_type": "stream",
     "text": [
      "Rows:300000\n",
      "Cols:16\n",
      "\n",
      "\n"
     ]
    },
    {
     "data": {
      "text/html": [
       "<table>\n",
       "<thead>\n",
       "<tr><th>       </th><th>id                </th><th>cont1               </th><th>cont2               </th><th>cont3               </th><th>cont4              </th><th>cont5              </th><th>cont6              </th><th>cont7              </th><th>cont8              </th><th>cont9               </th><th>cont10              </th><th>cont11             </th><th>cont12             </th><th>cont13              </th><th>cont14             </th><th>target            </th></tr>\n",
       "</thead>\n",
       "<tbody>\n",
       "<tr><td>type   </td><td>int               </td><td>real                </td><td>real                </td><td>real                </td><td>real               </td><td>real               </td><td>real               </td><td>real               </td><td>real               </td><td>real                </td><td>real                </td><td>real               </td><td>real               </td><td>real                </td><td>real               </td><td>real              </td></tr>\n",
       "<tr><td>mins   </td><td>1.0               </td><td>-0.08226332148023098</td><td>-0.03139747284868896</td><td>0.020966867357024715</td><td>0.15276142274357513</td><td>0.2763766684547749 </td><td>0.06616556355640804</td><td>-0.0976663005972248</td><td>0.2172599973404939 </td><td>-0.24060419174975897</td><td>-0.08504600359700187</td><td>0.08327673657427467</td><td>0.08863482103728729</td><td>0.029950236962791588</td><td>0.16636741070307134</td><td>0.0               </td></tr>\n",
       "<tr><td>mean   </td><td>249825.1458566666 </td><td>0.5068728581831755  </td><td>0.49789800448055244 </td><td>0.5215572703508549  </td><td>0.5156828403788997 </td><td>0.5020220135884831 </td><td>0.5265152304818906 </td><td>0.4878900924194839 </td><td>0.52516340241279   </td><td>0.4598574065006892  </td><td>0.5205322691134051  </td><td>0.48392640188416003</td><td>0.506876563113431  </td><td>0.5534416142060705  </td><td>0.503712930924629  </td><td>7.9056613283168335</td></tr>\n",
       "<tr><td>maxs   </td><td>499999.0          </td><td>1.0162274167302328  </td><td>0.8596967694315312  </td><td>1.006954603242489   </td><td>1.010402194425765  </td><td>1.0342608913385214 </td><td>1.0438577299007883 </td><td>1.0661674751074297 </td><td>1.0244272333729485 </td><td>1.0041140988637949  </td><td>1.1999513922566574  </td><td>1.0226201415878613 </td><td>1.0490254841877338 </td><td>0.9778450539552797  </td><td>0.8685064129198011 </td><td>10.267568500800396</td></tr>\n",
       "<tr><td>sigma  </td><td>144476.73256229569</td><td>0.20397619377641646 </td><td>0.2281594531471517  </td><td>0.20077005864001526 </td><td>0.23303548066745436</td><td>0.22070118123545235</td><td>0.21790897941119108</td><td>0.18109605419380245</td><td>0.21622147432174998</td><td>0.19668460399631907 </td><td>0.20185419152962933 </td><td>0.22008244024189094</td><td>0.21894739994721182</td><td>0.2297303024870577  </td><td>0.20823755996298202</td><td>0.733070830366318 </td></tr>\n",
       "<tr><td>zeros  </td><td>0                 </td><td>0                   </td><td>0                   </td><td>0                   </td><td>0                  </td><td>0                  </td><td>0                  </td><td>0                  </td><td>0                  </td><td>0                   </td><td>0                   </td><td>0                  </td><td>0                  </td><td>0                   </td><td>0                  </td><td>1                 </td></tr>\n",
       "<tr><td>missing</td><td>0                 </td><td>0                   </td><td>0                   </td><td>0                   </td><td>0                  </td><td>0                  </td><td>0                  </td><td>0                  </td><td>0                  </td><td>0                   </td><td>0                   </td><td>0                  </td><td>0                  </td><td>0                   </td><td>0                  </td><td>0                 </td></tr>\n",
       "<tr><td>0      </td><td>1.0               </td><td>0.6703898514390889  </td><td>0.8112995057309422  </td><td>0.6439683093331412  </td><td>0.2917913764510022 </td><td>0.28411737646993296</td><td>0.8559531758452059 </td><td>0.8907004183744506 </td><td>0.2855421109796029 </td><td>0.5582454418515085  </td><td>0.7794183626907151  </td><td>0.9218320519913782 </td><td>0.8667720988813201 </td><td>0.8787327721946618  </td><td>0.3054113450701753 </td><td>7.243042589449295 </td></tr>\n",
       "<tr><td>1      </td><td>3.0               </td><td>0.3880525276975261  </td><td>0.6211042271574185  </td><td>0.6861020924830562  </td><td>0.5011490796546958 </td><td>0.6437895146086654 </td><td>0.449804950718596  </td><td>0.5108237501974809 </td><td>0.5807482361435341 </td><td>0.4183350707888616  </td><td>0.4326316993235111  </td><td>0.4398722862927277 </td><td>0.4349705690738134 </td><td>0.3699574333716138  </td><td>0.3694841682508747 </td><td>8.203331138256422 </td></tr>\n",
       "<tr><td>2      </td><td>4.0               </td><td>0.8349504778390991  </td><td>0.2274363757909521  </td><td>0.3015838588756856  </td><td>0.293408406815278  </td><td>0.6068394934817684 </td><td>0.8291750847270303 </td><td>0.5061434957864068 </td><td>0.5587710129561313 </td><td>0.5876031455771054  </td><td>0.8233116378351174  </td><td>0.5670066799940074 </td><td>0.6777078828596778 </td><td>0.8829380804527522  </td><td>0.3030471034878757 </td><td>7.776090759821726 </td></tr>\n",
       "<tr><td>3      </td><td>5.0               </td><td>0.8207081542149183  </td><td>0.16015502956457528 </td><td>0.5468871637084558  </td><td>0.7261044189928849 </td><td>0.28244376878756194</td><td>0.7851078217967621 </td><td>0.7527582756179138 </td><td>0.8232666215088326 </td><td>0.5744662376705533  </td><td>0.5808425415999219  </td><td>0.7695941842967526 </td><td>0.8181426354764851 </td><td>0.9142814672668492  </td><td>0.2795275931151271 </td><td>6.957715809615326 </td></tr>\n",
       "<tr><td>4      </td><td>8.0               </td><td>0.93527823044286    </td><td>0.4212353750611798  </td><td>0.30380085036062393 </td><td>0.8802143269344298 </td><td>0.6656103512736972 </td><td>0.8301305276393726 </td><td>0.4871129085404026 </td><td>0.6041573087129861 </td><td>0.8746584038465337  </td><td>0.8634266148570693  </td><td>0.98357487168301   </td><td>0.9004639198077785 </td><td>0.9359176729034562  </td><td>0.4357724322454712 </td><td>7.951045833555517 </td></tr>\n",
       "<tr><td>5      </td><td>9.0               </td><td>0.3526225360787047  </td><td>0.2588671467961411  </td><td>0.3273728224648414  </td><td>0.8026268424076495 </td><td>0.2842186325073592 </td><td>0.2968864109875855 </td><td>0.20974276336456896</td><td>0.27371043751967217</td><td>0.30801846384395565 </td><td>0.2358507779254571  </td><td>0.27875997721877244</td><td>0.2514058927988099 </td><td>0.3391349700982119  </td><td>0.2931289726164049 </td><td>7.34687355039726  </td></tr>\n",
       "<tr><td>6      </td><td>11.0              </td><td>0.25909567079765744 </td><td>0.8039337839519766  </td><td>0.5808997906937371  </td><td>0.3228844761696548 </td><td>0.9847053347075044 </td><td>0.3782467858544095 </td><td>0.4328209582206266 </td><td>0.5620593173432448 </td><td>0.2909653359906609  </td><td>0.3165429314457113  </td><td>0.2191923221863959 </td><td>0.3269768681738661 </td><td>0.4586528381212767  </td><td>0.24429991565928183</td><td>8.616236578558986 </td></tr>\n",
       "<tr><td>7      </td><td>12.0              </td><td>0.4816097380821684  </td><td>0.8054457818596326  </td><td>0.23583648504262675 </td><td>0.3650105165819365 </td><td>0.734724860042979  </td><td>0.4048247994706665 </td><td>0.4650612593719558 </td><td>0.5787940314156553 </td><td>0.418806626993553   </td><td>0.4519575950550662  </td><td>0.4587204038047759 </td><td>0.5865860392582639 </td><td>0.32102575724489346 </td><td>0.8346939196933516 </td><td>6.833895084486218 </td></tr>\n",
       "<tr><td>8      </td><td>13.0              </td><td>0.6679199699053898  </td><td>0.7764222135678271  </td><td>0.25515374173270633 </td><td>0.8695977896716062 </td><td>0.6780672761482411 </td><td>0.4752738045589466 </td><td>0.4932897497667595 </td><td>0.6387792590088195 </td><td>0.4910233620909492  </td><td>0.6174505366502464  </td><td>0.4133521702026971 </td><td>0.4855580575826389 </td><td>0.4740551923345516  </td><td>0.6083740858458554 </td><td>8.540793313805546 </td></tr>\n",
       "<tr><td>9      </td><td>15.0              </td><td>0.9377512654067128  </td><td>0.23648210244566936 </td><td>0.216445343778888   </td><td>0.4764631140542655 </td><td>0.2836416546835309 </td><td>0.4567625900639874 </td><td>0.3164162958565284 </td><td>0.7856015321173294 </td><td>0.6958449976904921  </td><td>0.37094138926674985 </td><td>0.4368349565383352 </td><td>0.8262777896597665 </td><td>0.8567484081919182  </td><td>0.4185927793994083 </td><td>7.701052797339636 </td></tr>\n",
       "</tbody>\n",
       "</table>"
      ]
     },
     "metadata": {},
     "output_type": "display_data"
    }
   ],
   "source": [
    "train.describe()"
   ]
  },
  {
   "cell_type": "code",
   "execution_count": 6,
   "metadata": {
    "execution": {
     "iopub.execute_input": "2021-01-10T12:23:36.156090Z",
     "iopub.status.busy": "2021-01-10T12:23:36.154125Z",
     "iopub.status.idle": "2021-01-10T12:23:36.156798Z",
     "shell.execute_reply": "2021-01-10T12:23:36.157377Z"
    },
    "papermill": {
     "duration": 0.065953,
     "end_time": "2021-01-10T12:23:36.157502",
     "exception": false,
     "start_time": "2021-01-10T12:23:36.091549",
     "status": "completed"
    },
    "tags": []
   },
   "outputs": [],
   "source": [
    "# Prepare the data\n",
    "\n",
    "y = 'target'\n",
    "x = train.columns\n",
    "x.remove(y)\n",
    "x.remove('id')"
   ]
  },
  {
   "cell_type": "code",
   "execution_count": 7,
   "metadata": {
    "execution": {
     "iopub.execute_input": "2021-01-10T12:23:36.284383Z",
     "iopub.status.busy": "2021-01-10T12:23:36.283380Z",
     "iopub.status.idle": "2021-01-10T12:34:42.900620Z",
     "shell.execute_reply": "2021-01-10T12:34:42.899724Z"
    },
    "papermill": {
     "duration": 666.686973,
     "end_time": "2021-01-10T12:34:42.900801",
     "exception": false,
     "start_time": "2021-01-10T12:23:36.213828",
     "status": "completed"
    },
    "tags": []
   },
   "outputs": [
    {
     "name": "stdout",
     "output_type": "stream",
     "text": [
      "AutoML progress: |████████████████████████████████████████████████████████| 100%\n"
     ]
    }
   ],
   "source": [
    "# max_models can be played around with and seed as well. Greater the number of max_models greater is the time that its gonna take. The best part about it is that\n",
    "# It even tries out various ensemble models.\n",
    "\n",
    "aml = H2OAutoML(max_models = 3, seed = 1)\n",
    "aml.train(x = x, y = y, training_frame = train)"
   ]
  },
  {
   "cell_type": "code",
   "execution_count": 8,
   "metadata": {
    "execution": {
     "iopub.execute_input": "2021-01-10T12:34:43.108182Z",
     "iopub.status.busy": "2021-01-10T12:34:43.107163Z",
     "iopub.status.idle": "2021-01-10T12:34:43.111901Z",
     "shell.execute_reply": "2021-01-10T12:34:43.113315Z"
    },
    "papermill": {
     "duration": 0.117068,
     "end_time": "2021-01-10T12:34:43.113500",
     "exception": false,
     "start_time": "2021-01-10T12:34:42.996432",
     "status": "completed"
    },
    "tags": []
   },
   "outputs": [],
   "source": [
    "# h20 saves the models in a table format where it has the model name and the various parameters such as rmse, mse, mae and more\n",
    "lb = aml.leaderboard"
   ]
  },
  {
   "cell_type": "code",
   "execution_count": 9,
   "metadata": {
    "execution": {
     "iopub.execute_input": "2021-01-10T12:34:43.364508Z",
     "iopub.status.busy": "2021-01-10T12:34:43.363489Z",
     "iopub.status.idle": "2021-01-10T12:34:43.422088Z",
     "shell.execute_reply": "2021-01-10T12:34:43.423288Z"
    },
    "papermill": {
     "duration": 0.201615,
     "end_time": "2021-01-10T12:34:43.423496",
     "exception": false,
     "start_time": "2021-01-10T12:34:43.221881",
     "status": "completed"
    },
    "tags": []
   },
   "outputs": [
    {
     "data": {
      "text/html": [
       "<table>\n",
       "<thead>\n",
       "<tr><th>model_id                                        </th><th style=\"text-align: right;\">  mean_residual_deviance</th><th style=\"text-align: right;\">    rmse</th><th style=\"text-align: right;\">     mse</th><th style=\"text-align: right;\">     mae</th><th style=\"text-align: right;\">    rmsle</th></tr>\n",
       "</thead>\n",
       "<tbody>\n",
       "<tr><td>XGBoost_3_AutoML_20210110_122336                </td><td style=\"text-align: right;\">                0.494018</td><td style=\"text-align: right;\">0.702864</td><td style=\"text-align: right;\">0.494018</td><td style=\"text-align: right;\">0.588499</td><td style=\"text-align: right;\">0.0799142</td></tr>\n",
       "<tr><td>StackedEnsemble_AllModels_AutoML_20210110_122336</td><td style=\"text-align: right;\">                0.511833</td><td style=\"text-align: right;\">0.715425</td><td style=\"text-align: right;\">0.511833</td><td style=\"text-align: right;\">0.605068</td><td style=\"text-align: right;\">0.0813321</td></tr>\n",
       "<tr><td>XGBoost_1_AutoML_20210110_122336                </td><td style=\"text-align: right;\">                0.513151</td><td style=\"text-align: right;\">0.716346</td><td style=\"text-align: right;\">0.513151</td><td style=\"text-align: right;\">0.594672</td><td style=\"text-align: right;\">0.0813992</td></tr>\n",
       "<tr><td>XGBoost_2_AutoML_20210110_122336                </td><td style=\"text-align: right;\">                0.579034</td><td style=\"text-align: right;\">0.760943</td><td style=\"text-align: right;\">0.579034</td><td style=\"text-align: right;\">0.622973</td><td style=\"text-align: right;\">0.0863801</td></tr>\n",
       "</tbody>\n",
       "</table>"
      ]
     },
     "metadata": {},
     "output_type": "display_data"
    },
    {
     "data": {
      "text/plain": []
     },
     "execution_count": 9,
     "metadata": {},
     "output_type": "execute_result"
    }
   ],
   "source": [
    "# Let's have a look at some of the rows in the table.\n",
    "lb.head()"
   ]
  },
  {
   "cell_type": "code",
   "execution_count": 10,
   "metadata": {
    "execution": {
     "iopub.execute_input": "2021-01-10T12:34:43.659275Z",
     "iopub.status.busy": "2021-01-10T12:34:43.658269Z",
     "iopub.status.idle": "2021-01-10T12:34:43.666646Z",
     "shell.execute_reply": "2021-01-10T12:34:43.665822Z"
    },
    "papermill": {
     "duration": 0.128128,
     "end_time": "2021-01-10T12:34:43.666806",
     "exception": false,
     "start_time": "2021-01-10T12:34:43.538678",
     "status": "completed"
    },
    "tags": []
   },
   "outputs": [
    {
     "data": {
      "text/html": [
       "<table>\n",
       "<thead>\n",
       "<tr><th>model_id                                        </th><th style=\"text-align: right;\">  mean_residual_deviance</th><th style=\"text-align: right;\">    rmse</th><th style=\"text-align: right;\">     mse</th><th style=\"text-align: right;\">     mae</th><th style=\"text-align: right;\">    rmsle</th></tr>\n",
       "</thead>\n",
       "<tbody>\n",
       "<tr><td>XGBoost_3_AutoML_20210110_122336                </td><td style=\"text-align: right;\">                0.494018</td><td style=\"text-align: right;\">0.702864</td><td style=\"text-align: right;\">0.494018</td><td style=\"text-align: right;\">0.588499</td><td style=\"text-align: right;\">0.0799142</td></tr>\n",
       "<tr><td>StackedEnsemble_AllModels_AutoML_20210110_122336</td><td style=\"text-align: right;\">                0.511833</td><td style=\"text-align: right;\">0.715425</td><td style=\"text-align: right;\">0.511833</td><td style=\"text-align: right;\">0.605068</td><td style=\"text-align: right;\">0.0813321</td></tr>\n",
       "<tr><td>XGBoost_1_AutoML_20210110_122336                </td><td style=\"text-align: right;\">                0.513151</td><td style=\"text-align: right;\">0.716346</td><td style=\"text-align: right;\">0.513151</td><td style=\"text-align: right;\">0.594672</td><td style=\"text-align: right;\">0.0813992</td></tr>\n",
       "<tr><td>XGBoost_2_AutoML_20210110_122336                </td><td style=\"text-align: right;\">                0.579034</td><td style=\"text-align: right;\">0.760943</td><td style=\"text-align: right;\">0.579034</td><td style=\"text-align: right;\">0.622973</td><td style=\"text-align: right;\">0.0863801</td></tr>\n",
       "</tbody>\n",
       "</table>"
      ]
     },
     "metadata": {},
     "output_type": "display_data"
    },
    {
     "data": {
      "text/plain": []
     },
     "execution_count": 10,
     "metadata": {},
     "output_type": "execute_result"
    }
   ],
   "source": [
    "# To view all the models and their scores we can use the rows function to display all of them.\n",
    "lb.head(rows=lb.nrows)"
   ]
  },
  {
   "cell_type": "code",
   "execution_count": 11,
   "metadata": {
    "execution": {
     "iopub.execute_input": "2021-01-10T12:34:43.881691Z",
     "iopub.status.busy": "2021-01-10T12:34:43.880830Z",
     "iopub.status.idle": "2021-01-10T12:34:43.909248Z",
     "shell.execute_reply": "2021-01-10T12:34:43.908334Z"
    },
    "papermill": {
     "duration": 0.135365,
     "end_time": "2021-01-10T12:34:43.909414",
     "exception": false,
     "start_time": "2021-01-10T12:34:43.774049",
     "status": "completed"
    },
    "tags": []
   },
   "outputs": [],
   "source": [
    "# choose the best model which is the first record in the table as our model.\n",
    "model = aml.leader"
   ]
  },
  {
   "cell_type": "code",
   "execution_count": 12,
   "metadata": {
    "execution": {
     "iopub.execute_input": "2021-01-10T12:34:44.127324Z",
     "iopub.status.busy": "2021-01-10T12:34:44.126336Z",
     "iopub.status.idle": "2021-01-10T12:34:45.222366Z",
     "shell.execute_reply": "2021-01-10T12:34:45.223134Z"
    },
    "papermill": {
     "duration": 1.210169,
     "end_time": "2021-01-10T12:34:45.223301",
     "exception": false,
     "start_time": "2021-01-10T12:34:44.013132",
     "status": "completed"
    },
    "tags": []
   },
   "outputs": [
    {
     "name": "stdout",
     "output_type": "stream",
     "text": [
      "xgboost prediction progress: |████████████████████████████████████████████| 100%\n"
     ]
    }
   ],
   "source": [
    "# use the leader model to predict on the test dataset. Note we are using the test file imported in h2o and not the dataframe/\n",
    "preds = model.predict(test)"
   ]
  },
  {
   "cell_type": "code",
   "execution_count": 13,
   "metadata": {
    "execution": {
     "iopub.execute_input": "2021-01-10T12:34:45.442342Z",
     "iopub.status.busy": "2021-01-10T12:34:45.441467Z",
     "iopub.status.idle": "2021-01-10T12:34:46.206752Z",
     "shell.execute_reply": "2021-01-10T12:34:46.206248Z"
    },
    "papermill": {
     "duration": 0.879568,
     "end_time": "2021-01-10T12:34:46.206876",
     "exception": false,
     "start_time": "2021-01-10T12:34:45.327308",
     "status": "completed"
    },
    "tags": []
   },
   "outputs": [
    {
     "data": {
      "text/plain": [
       "0         7.987298\n",
       "1         7.877398\n",
       "2         7.936702\n",
       "3         8.192446\n",
       "4         8.215229\n",
       "            ...   \n",
       "199995    8.295063\n",
       "199996    8.165467\n",
       "199997    8.085840\n",
       "199998    7.994658\n",
       "199999    7.970603\n",
       "Name: predict, Length: 200000, dtype: float64"
      ]
     },
     "execution_count": 13,
     "metadata": {},
     "output_type": "execute_result"
    }
   ],
   "source": [
    "# convert the predicts into a list using the as_list function adn then create our final submission file.\n",
    "final = h2o.as_list(preds)\n",
    "final['predict']"
   ]
  },
  {
   "cell_type": "code",
   "execution_count": 14,
   "metadata": {
    "execution": {
     "iopub.execute_input": "2021-01-10T12:34:46.367352Z",
     "iopub.status.busy": "2021-01-10T12:34:46.366610Z",
     "iopub.status.idle": "2021-01-10T12:34:47.428365Z",
     "shell.execute_reply": "2021-01-10T12:34:47.427260Z"
    },
    "papermill": {
     "duration": 1.147048,
     "end_time": "2021-01-10T12:34:47.428489",
     "exception": false,
     "start_time": "2021-01-10T12:34:46.281441",
     "status": "completed"
    },
    "tags": []
   },
   "outputs": [],
   "source": [
    "sub = pd.DataFrame()\n",
    "sub['id'] = test_df['id']\n",
    "sub['target'] = final['predict']\n",
    "sub.to_csv('submission.csv',index=False)"
   ]
  },
  {
   "cell_type": "code",
   "execution_count": 15,
   "metadata": {
    "execution": {
     "iopub.execute_input": "2021-01-10T12:34:47.581765Z",
     "iopub.status.busy": "2021-01-10T12:34:47.581157Z",
     "iopub.status.idle": "2021-01-10T12:34:47.585490Z",
     "shell.execute_reply": "2021-01-10T12:34:47.584809Z"
    },
    "papermill": {
     "duration": 0.082847,
     "end_time": "2021-01-10T12:34:47.585602",
     "exception": false,
     "start_time": "2021-01-10T12:34:47.502755",
     "status": "completed"
    },
    "tags": []
   },
   "outputs": [],
   "source": [
    "# If you are reading this thanks for dropping by. Please upvote if you find it useful."
   ]
  }
 ],
 "metadata": {
  "kernelspec": {
   "display_name": "Python 3",
   "language": "python",
   "name": "python3"
  },
  "language_info": {
   "codemirror_mode": {
    "name": "ipython",
    "version": 3
   },
   "file_extension": ".py",
   "mimetype": "text/x-python",
   "name": "python",
   "nbconvert_exporter": "python",
   "pygments_lexer": "ipython3",
   "version": "3.7.6"
  },
  "papermill": {
   "duration": 698.36342,
   "end_time": "2021-01-10T12:34:47.768110",
   "environment_variables": {},
   "exception": null,
   "input_path": "__notebook__.ipynb",
   "output_path": "__notebook__.ipynb",
   "parameters": {},
   "start_time": "2021-01-10T12:23:09.404690",
   "version": "2.1.0"
  }
 },
 "nbformat": 4,
 "nbformat_minor": 4
}
